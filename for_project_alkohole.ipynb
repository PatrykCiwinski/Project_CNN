{
  "cells": [
    {
      "cell_type": "markdown",
      "metadata": {
        "id": "view-in-github",
        "colab_type": "text"
      },
      "source": [
        "<a href=\"https://colab.research.google.com/github/PatrykCiwinski/Project_CNN/blob/main/for_project_alkohole.ipynb\" target=\"_parent\"><img src=\"https://colab.research.google.com/assets/colab-badge.svg\" alt=\"Open In Colab\"/></a>"
      ]
    },
    {
      "cell_type": "code",
      "execution_count": null,
      "metadata": {
        "id": "3owYG0vbUVdi"
      },
      "outputs": [],
      "source": [
        "import requests\n",
        "from bs4 import BeautifulSoup\n",
        "from PIL import Image\n",
        "from io import BytesIO\n",
        "import os\n",
        "import random\n",
        "import numpy as np"
      ]
    },
    {
      "cell_type": "code",
      "execution_count": null,
      "metadata": {
        "id": "YuQ1AfHFUYmX"
      },
      "outputs": [],
      "source": [
        "from google.colab import drive\n",
        "drive.mount('/content/drive/')"
      ]
    },
    {
      "cell_type": "code",
      "execution_count": null,
      "metadata": {
        "id": "7MjWkuJUWxrv"
      },
      "outputs": [],
      "source": [
        "url = f'https://zakupyw24h.pl/257-soki'"
      ]
    },
    {
      "cell_type": "code",
      "execution_count": null,
      "metadata": {
        "id": "XWJhsehFW_8Z"
      },
      "outputs": [],
      "source": [
        "response = requests.get(url)\n",
        "content = response.content"
      ]
    },
    {
      "cell_type": "code",
      "execution_count": null,
      "metadata": {
        "id": "43oIOK0iwtl9"
      },
      "outputs": [],
      "source": [
        "soup = BeautifulSoup(content, 'html.parser')"
      ]
    },
    {
      "cell_type": "code",
      "execution_count": null,
      "metadata": {
        "colab": {
          "base_uri": "https://localhost:8080/"
        },
        "id": "rYH3JTfcXC8u",
        "outputId": "d787a24a-a5de-4052-addb-40f4568c2799"
      },
      "outputs": [
        {
          "data": {
            "text/plain": [
              "['https://zakupyw24h.pl/89217-home_default/tloczone-jablko-i-pigwa-250-ml.jpg',\n",
              " 'https://zakupyw24h.pl/89202-home_default/bracia-sadownicy-tloczone-jablko-i-agrestem-250-ml.jpg',\n",
              " 'https://zakupyw24h.pl/129318-home_default/bracia-sadownicy-musujace-jablko-i-roza-275-ml.jpg',\n",
              " 'https://zakupyw24h.pl/129317-home_default/bracia-sadowscy-letnie-jablko-z-truskawka-i-bazylia-500-ml.jpg',\n",
              " 'https://zakupyw24h.pl/116635-home_default/rioba-sok-z-pomaranczy-250-ml.jpg',\n",
              " 'https://zakupyw24h.pl/116640-home_default/rioba-sok-z-klementynki-250-ml.jpg',\n",
              " 'https://zakupyw24h.pl/66683-home_default/aro-sok-jablkowy-z-zageszczonego-soku-jablkowego-28-l.jpg',\n",
              " 'https://zakupyw24h.pl/64519-home_default/rioba-sok-cytrynowy-z-zageszczonego-soku-z-cytryny-075-l.jpg',\n",
              " 'https://zakupyw24h.pl/64520-home_default/rioba-sok-z-limonki-07-l.jpg',\n",
              " 'https://zakupyw24h.pl/132322-home_default/rioba-sok-z-klementynki-650-ml.jpg',\n",
              " 'https://zakupyw24h.pl/65020-home_default/hortex-vitaminka-malina-marchewka-jablko-sok-300-ml-6-sztuk-.jpg',\n",
              " 'https://zakupyw24h.pl/65021-home_default/hortex-vitaminka-truskawka-marchewka-jablko-sok-300-ml.jpg',\n",
              " 'https://zakupyw24h.pl/66684-home_default/aro-sok-pomaranczowy-z-zageszczonego-soku-pomaranczowego-wzbogacony-witamina-c-28-l.jpg',\n",
              " 'https://zakupyw24h.pl/65377-home_default/hortex-pomidor-pikantny-sok-100-300-ml-6-sztuk-.jpg',\n",
              " 'https://zakupyw24h.pl/75018-home_default/hortex-multiwitamina-sok-100-300-ml-6-sztuk.jpg',\n",
              " 'https://zakupyw24h.pl/118709-home_default/sady-wincenta-sok-jablkowy-3-l.jpg',\n",
              " 'https://zakupyw24h.pl/140773-home_default/sady-wincenta-sok-jablkowo-gruszkowy-3-l.jpg',\n",
              " 'https://zakupyw24h.pl/110376-home_default/aro-sok-jablkowy-1-l-6-sztuk-.jpg',\n",
              " 'https://zakupyw24h.pl/75853-home_default/tymbark-vega-prowansalskie-pola-sok-z-warzyw-i-owocow-500-ml-6-sztuk-.jpg',\n",
              " 'https://zakupyw24h.pl/75856-home_default/tymbark-vega-srodziemnomorski-ogrod-sok-z-warzyw-i-owocow-500-ml-6-sztuk-.jpg',\n",
              " 'https://zakupyw24h.pl/94679-home_default/andros-sok-cytrynowy-1-l.jpg',\n",
              " 'https://zakupyw24h.pl/96657-home_default/andros-sok-pomaranczowy-15-l.jpg',\n",
              " 'https://zakupyw24h.pl/62156-home_default/hortex-jablko-sok-100-1-l-6-sztuk-karton.jpg',\n",
              " 'https://zakupyw24h.pl/126983-home_default/andros-sok-pomarancza-mango-1-l.jpg',\n",
              " 'https://zakupyw24h.pl/110326-home_default/fortuna-sok-bez-dodatku-cukru-jablkowy-1-l-6-sztuk-.jpg',\n",
              " 'https://zakupyw24h.pl/64071-home_default/fortuna-sok-100-jablko-1-l-6-sztuk-pet.jpg',\n",
              " 'https://zakupyw24h.pl/74652-home_default/fortuna-sok-swieze-pomidory-karton-1-l-6-sztuk-karton.jpg',\n",
              " 'https://zakupyw24h.pl/69863-home_default/hortex-vitaminka-marchewka-sok-1-l-6-sztuk-.jpg',\n",
              " 'https://zakupyw24h.pl/75775-home_default/hortex-vitaminka-sok-marchew-jablko-malina-1-l-6-sztuk-.jpg',\n",
              " 'https://zakupyw24h.pl/65315-home_default/kubus-100-o-smaku-banana-marchwi-i-jablka-03-l-12-sztuk-.jpg',\n",
              " 'https://zakupyw24h.pl/65316-home_default/kubus-100-o-smaku-maliny-marchwi-i-jablka-03-l-12-sztuk-.jpg',\n",
              " 'https://zakupyw24h.pl/74915-home_default/kubus-go-marchew-jablko-brzoskwinia-sok-z-warzyw-i-owocow-300-ml-12-sztuk-.jpg',\n",
              " 'https://zakupyw24h.pl/85246-home_default/kubus-sok-marchewbrzoskwiniajablko-850-ml-6-sztuk-.jpg',\n",
              " 'https://zakupyw24h.pl/85256-home_default/kubus-sok-bananmarchewjablko-850-ml-6-sztuk-.jpg',\n",
              " 'https://zakupyw24h.pl/85251-home_default/kubus-sok-bananmarchewmango-850-ml-6-sztuk.jpg',\n",
              " 'https://zakupyw24h.pl/85236-home_default/kubus-sok-malinamarchewjablko-850-ml-6-sztuk-.jpg',\n",
              " 'https://zakupyw24h.pl/85231-home_default/kubus-sok-marchewjablkopomarancza-850-ml-6-sztuk-.jpg',\n",
              " 'https://zakupyw24h.pl/85226-home_default/kubus-sok-truskawkabanan-850-ml-6-sztuk.jpg',\n",
              " 'https://zakupyw24h.pl/85221-home_default/kubus-sok-bananjablkobrzoskwinia-850-ml-6-sztuk-.jpg',\n",
              " 'https://zakupyw24h.pl/94694-home_default/andros-sok-klementynka-15l.jpg',\n",
              " 'https://zakupyw24h.pl/114438-home_default/mogu-mogu-winogrono-320-ml-6-sztuk-.jpg',\n",
              " 'https://zakupyw24h.pl/114443-home_default/mogu-mogu-sok-ananas-320-ml-6-sztuk.jpg',\n",
              " 'https://zakupyw24h.pl/114448-home_default/mogu-mogu-sok-liczi-320-ml-6-sztuk.jpg',\n",
              " 'https://zakupyw24h.pl/114453-home_default/mogu-mogu-sok-truskawkowy-320-ml-6-sztuk.jpg',\n",
              " 'https://zakupyw24h.pl/66945-home_default/rioba-sok-cytrynowy-4-ml-100-sztuk.jpg',\n",
              " 'https://zakupyw24h.pl/110381-home_default/aro-sok-pomaranczowy-1-l-6-sztuk-.jpg',\n",
              " 'https://zakupyw24h.pl/75010-home_default/hortex-jablko-sok-100-1-l-6-sztuk-pet.jpg',\n",
              " 'https://zakupyw24h.pl/111556-home_default/fine-life-sok-jablkowy-200-ml-24-sztuki-.jpg',\n",
              " 'https://zakupyw24h.pl/111561-home_default/fine-life-sok-pomaranczowy-200-ml-24-sztuki-.jpg',\n",
              " 'https://zakupyw24h.pl/75768-home_default/tymbark-pomidor-sok-100-1-l-6-sztuk-karton.jpg',\n",
              " 'https://zakupyw24h.pl/67105-home_default/tymbark-pikantny-pomidor-sok-100-1-l-6-sztuk-.jpg',\n",
              " 'https://zakupyw24h.pl/74721-home_default/tymbark-multiwitamina-sok-100-1-l-6-sztuk-pet.jpg',\n",
              " 'https://zakupyw24h.pl/67647-home_default/tymbark-multiwitamina-sok-100-1-l-6-sztuk-karton.jpg',\n",
              " 'https://zakupyw24h.pl/114213-home_default/fortuna-sok-multiwitamina-1-l-6-sztuk.jpg',\n",
              " 'https://zakupyw24h.pl/81790-home_default/tymbark-multiwitamina-sok-100-300-ml-12-sztuk-.jpg',\n",
              " 'https://zakupyw24h.pl/81792-home_default/tymbark-jablko-sok-100-300-ml-12-sztuk-.jpg',\n",
              " 'https://zakupyw24h.pl/81791-home_default/tymbark-pomarancza-sok-100-300-ml-12-sztuk-.jpg',\n",
              " 'https://zakupyw24h.pl/63856-home_default/fortuna-sok-100-pomarancza-300-ml-15-sztuk-.jpg',\n",
              " 'https://zakupyw24h.pl/63857-home_default/fortuna-sok-100-multiwitamina-300-ml-15-sztuk-.jpg',\n",
              " 'https://zakupyw24h.pl/63855-home_default/fortuna-sok-100-jablko-300-ml-15-sztuk-.jpg',\n",
              " 'https://zakupyw24h.pl/73745-home_default/tymbark-jablko-sok-100-1-l-6-sztuk-karton.jpg',\n",
              " 'https://zakupyw24h.pl/75113-home_default/tymbark-sok-100-jablko-1-l-6-sztuk-pet.jpg',\n",
              " 'https://zakupyw24h.pl/108288-home_default/fortuna-sok-pomaranczowy-bcukru-6x1l.jpg',\n",
              " 'https://zakupyw24h.pl/64070-home_default/fortuna-sok-100-pomarancza-1-l-6-sztuk-pet.jpg',\n",
              " 'https://zakupyw24h.pl/62245-home_default/kubus-sok-100-jablko-300-ml-12-sztuk-.jpg',\n",
              " 'https://zakupyw24h.pl/62246-home_default/kubus-sok-100-multiwitamina-300-ml-12-sztuk-.jpg',\n",
              " 'https://zakupyw24h.pl/64118-home_default/kubus-100-sok-pomarancza-jablko-300-ml-12-sztuk-.jpg',\n",
              " 'https://zakupyw24h.pl/74914-home_default/tymbark-pomarancza-sok-100-1-l-6-sztuk-pet.jpg',\n",
              " 'https://zakupyw24h.pl/66110-home_default/fortuna-pomidor-tabasco-sok-100-300-ml-15-sztuk-.jpg',\n",
              " 'https://zakupyw24h.pl/75070-home_default/fortuna-pomidor-sok-100-300-ml-15-sztuk-.jpg',\n",
              " 'https://zakupyw24h.pl/75008-home_default/hortex-pomarancza-sok-100-1-l-6-sztuk-pet.jpg',\n",
              " 'https://zakupyw24h.pl/65220-home_default/fortuna-uroda-czerwony-grejpfrut-sok-100-1-l-6-sztuk-.jpg',\n",
              " 'https://zakupyw24h.pl/76443-home_default/sok-pomaranczowy-100-cappy-1-l-6-sztuk-.jpg',\n",
              " 'https://zakupyw24h.pl/76441-home_default/sok-jablkowy-100-cappy-1-l-6-sztuk-.jpg',\n",
              " 'https://zakupyw24h.pl/75774-home_default/hortex-multiwitamina-sok-100-1-l-6-sztuk-karton.jpg',\n",
              " 'https://zakupyw24h.pl/69864-home_default/hortex-pomidor-sok-100-1-l-6-sztuk-karton.jpg',\n",
              " 'https://zakupyw24h.pl/75903-home_default/hortex-pomarancza-sok-100-1-l-6-sztuk-karton.jpg',\n",
              " 'https://zakupyw24h.pl/73577-home_default/cappy-sok-jablkowy-100-330-ml-12-sztuk-.jpg',\n",
              " 'https://zakupyw24h.pl/84451-home_default/cappy-sok-pomaranczowy-100-330-ml-12-sztuk-.jpg',\n",
              " 'https://zakupyw24h.pl/62832-home_default/rioba-sok-pomaranczowy-02-l-24-sztuki-.jpg',\n",
              " 'https://zakupyw24h.pl/62833-home_default/rioba-sok-jablkowy-02-l-24-sztuki-.jpg',\n",
              " 'https://zakupyw24h.pl/80861-home_default/tarczyn-sok-z-buraka-300-ml-15-sztuk.jpg',\n",
              " 'https://zakupyw24h.pl/88144-home_default/tarczyn-sok-multiwitamina-300-ml-15-sztuk-.jpg',\n",
              " 'https://zakupyw24h.pl/134314-home_default/fortuna-multiwitamina-sok-100-200-ml-24-sztuki.jpg',\n",
              " 'https://zakupyw24h.pl/134319-home_default/fortuna-pomarancza-sok-100-200-ml-24-sztuki.jpg',\n",
              " 'https://zakupyw24h.pl/74649-home_default/tarczyn-jablko-sok-100-300-ml-15-sztuk-.jpg',\n",
              " 'https://zakupyw24h.pl/68835-home_default/tarczyn-multiwitamina-10-witamin-napoj-wieloowocowy-300-ml-15-sztuk.jpg',\n",
              " 'https://zakupyw24h.pl/68834-home_default/tarczyn-multiwitamina-7-witamin-napoj-wieloowocowy-300-ml-15-sztuk.jpg',\n",
              " 'https://zakupyw24h.pl/63271-home_default/tarczyn-pomidor-pikantny-z-dodatkiem-soli-morskiej-i-przypraw-sok-100-300-ml-15-sztuk-.jpg',\n",
              " 'https://zakupyw24h.pl/63270-home_default/tarczyn-pomidor-z-dodatkiem-soli-morskiej-sok-100-300-ml-15-sztuk-.jpg',\n",
              " 'https://zakupyw24h.pl/73805-home_default/tymbark-pomarancza-sok-100-1-l-6-sztuk-karton.jpg',\n",
              " 'https://zakupyw24h.pl/66376-home_default/hortex-leon-sok-100-multiwitamina-200-ml-27-sztuk-.jpg',\n",
              " 'https://zakupyw24h.pl/74214-home_default/tymbark-sok-100-mix-smakow-200-ml-24-sztuki.jpg',\n",
              " 'https://zakupyw24h.pl/78041-home_default/hortex-leon-sok-100-jablko-200-ml-27-sztuk-.jpg',\n",
              " 'https://zakupyw24h.pl/68055-home_default/tymbark-sok-multiwitamina-karton-200-ml-27-sztuk-.jpg',\n",
              " 'https://zakupyw24h.pl/74036-home_default/tymbark-pomarancza-sok-100-200-ml-27-sztuk.jpg',\n",
              " 'https://zakupyw24h.pl/75545-home_default/tymbark-jablko-sok-100-200-ml-27-sztuk-.jpg',\n",
              " 'https://zakupyw24h.pl/73036-home_default/kubus-marchew-malina-jablko-sok-z-warzyw-i-owocow-300-ml-20-sztuk-.jpg',\n",
              " 'https://zakupyw24h.pl/73049-home_default/kubus-banan-marchew-jablko-sok-z-warzyw-i-owocow-300-ml-20-sztuk-.jpg']"
            ]
          },
          "execution_count": 6,
          "metadata": {},
          "output_type": "execute_result"
        }
      ],
      "source": [
        "imgs = soup.select('div.thumbnail-container a.thumbnail.product-thumbnail img')\n",
        "urls = [img['src'] for img in imgs]\n",
        "\n",
        "urls"
      ]
    },
    {
      "cell_type": "code",
      "execution_count": null,
      "metadata": {
        "id": "2bCb3nR3fAhq"
      },
      "outputs": [],
      "source": [
        "urls[0]"
      ]
    },
    {
      "cell_type": "code",
      "execution_count": null,
      "metadata": {
        "id": "KkaGKGoLdMBe"
      },
      "outputs": [],
      "source": [
        "print(content)"
      ]
    },
    {
      "cell_type": "code",
      "execution_count": null,
      "metadata": {
        "id": "0s28OFLUgaP8"
      },
      "outputs": [],
      "source": [
        "response = requests.get(urls[1])\n",
        "content = response.content"
      ]
    },
    {
      "cell_type": "code",
      "execution_count": null,
      "metadata": {
        "id": "Weug_s35gdKi"
      },
      "outputs": [],
      "source": [
        "img = Image.open(BytesIO(content))"
      ]
    },
    {
      "cell_type": "code",
      "execution_count": null,
      "metadata": {
        "id": "TKUb3PskgfkC"
      },
      "outputs": [],
      "source": [
        "urls[1].split('/')[-1].split('.')[0] + '.jpg'"
      ]
    },
    {
      "cell_type": "code",
      "execution_count": null,
      "metadata": {
        "id": "QPJ1XPixhHqH"
      },
      "outputs": [],
      "source": [
        "img.save('wodka.jpg')"
      ]
    },
    {
      "cell_type": "code",
      "execution_count": null,
      "metadata": {
        "id": "fgdaIvh8sYIL"
      },
      "outputs": [],
      "source": [
        "wysokoprocentowe = [\"oferta-weselna\", \"wodki\", \"likiery\", \"whisky-\", \"koniak-brandy\", \"rumy\", \"giny\"]\n",
        "bezalkoholowe = [\"soki\", \"nektary\", \"napoje-owocowe-i-warzywne\", \"napoje-gazowane\", \"syropy\", \"napoje-energetyczne\", \"napoje-izotoniczne\",'napoje-bezalkoholowe','woda']"
      ]
    },
    {
      "cell_type": "code",
      "execution_count": null,
      "metadata": {
        "id": "IHHCgInqhl5f"
      },
      "outputs": [],
      "source": [
        "def get_page(category,\n",
        "             subcategory,\n",
        "             page_number):\n",
        "  \n",
        "  url = f'https://2kwodka.pl/{subcategory}-{category}?page={page_number}' \n",
        "  try:\n",
        "    response = requests.get(url)\n",
        "    content = response.content\n",
        "    return content\n",
        "  except:\n",
        "    print('Fail')\n",
        "\n",
        "def parse_imgs_url(content):\n",
        "  soup = BeautifulSoup(content, 'html.parser')\n",
        "  imgs = soup.select('div.thumbnail-container a.thumbnail.product-thumbnail img')\n",
        "  return [img['src'] for img in imgs]\n",
        "\n",
        "def get_image(url, path, category):\n",
        "  try:\n",
        "    response = requests.get(url)\n",
        "    content = response.content\n",
        "    img = Image.open(BytesIO(content))\n",
        "    rgb_im = img.convert('RGB')\n",
        "    file_name = url.split('/')[-1].split('.')[0] + '.jpg'\n",
        "    if category in wysokoprocentowe:\n",
        "       os.makedirs(f'{path}/wysokoprocentowe', exist_ok=True)\n",
        "       rgb_im.save(f'{path}/wysokoprocentowe/{file_name}')\n",
        "  except:\n",
        "    print('Fail')\n",
        "\n",
        "def get_data(category,\n",
        "             subcategory,\n",
        "             start_page,\n",
        "             end_page,\n",
        "             path):\n",
        "  \n",
        "  for page_number in range(start_page, end_page + 1):\n",
        "    content = get_page(category, subcategory, page_number)\n",
        "    urls = parse_imgs_url(content)\n",
        "\n",
        "    for i, url in enumerate(urls):\n",
        "      get_image(url, path, category)\n",
        "      if i % 3 == 0:\n",
        "        print(f'Downloaded {i} for page {page_number} from {subcategory}')"
      ]
    },
    {
      "cell_type": "code",
      "execution_count": null,
      "metadata": {
        "id": "bv8MuD0XoFSa"
      },
      "outputs": [],
      "source": [
        "def get_first_page(category,\n",
        "                   subcategory,\n",
        "                   ):\n",
        "  \n",
        "  url = f'https://2kwodka.pl/{subcategory}-{category}' \n",
        "  try:\n",
        "    response = requests.get(url)\n",
        "    content = response.content\n",
        "    return content\n",
        "  except:\n",
        "    print('Fail')\n",
        "\n",
        "def get_first_page_data(category,\n",
        "             subcategory,\n",
        "             path):\n",
        "  \n",
        " \n",
        "  content = get_first_page(category, subcategory)\n",
        "  urls = parse_imgs_url(content)\n",
        "\n",
        "  for i, url in enumerate(urls):\n",
        "    get_image(url, path, category)\n",
        "    if i % 3 == 0:\n",
        "      print(f'Downloaded {i} for first page from {subcategory}')"
      ]
    },
    {
      "cell_type": "code",
      "execution_count": null,
      "metadata": {
        "colab": {
          "background_save": true,
          "base_uri": "https://localhost:8080/"
        },
        "id": "CctYdIOTlC1B",
        "outputId": "6ae1f2e9-0cd4-4daf-a029-e858492886d6"
      },
      "outputs": [
        {
          "name": "stdout",
          "output_type": "stream",
          "text": [
            "Downloaded 0 for first page from 28\n",
            "Downloaded 3 for first page from 28\n",
            "Downloaded 6 for first page from 28\n",
            "Downloaded 9 for first page from 28\n",
            "Downloaded 0 for first page from 3\n",
            "Downloaded 3 for first page from 3\n",
            "Downloaded 6 for first page from 3\n",
            "Downloaded 9 for first page from 3\n",
            "Downloaded 0 for first page from 6\n",
            "Downloaded 3 for first page from 6\n",
            "Downloaded 6 for first page from 6\n",
            "Downloaded 9 for first page from 6\n",
            "Downloaded 0 for first page from 9\n",
            "Downloaded 3 for first page from 9\n",
            "Downloaded 6 for first page from 9\n",
            "Downloaded 9 for first page from 9\n",
            "Downloaded 0 for first page from 35\n",
            "Downloaded 3 for first page from 35\n",
            "Downloaded 6 for first page from 35\n",
            "Downloaded 9 for first page from 35\n",
            "Downloaded 0 for first page from 29\n",
            "Downloaded 3 for first page from 29\n",
            "Downloaded 6 for first page from 29\n",
            "Downloaded 9 for first page from 29\n",
            "Downloaded 0 for first page from 30\n",
            "Downloaded 3 for first page from 30\n",
            "Downloaded 6 for first page from 30\n",
            "Downloaded 9 for first page from 30\n",
            "Downloaded 0 for first page from 31\n",
            "Downloaded 3 for first page from 31\n",
            "Downloaded 6 for first page from 31\n",
            "Downloaded 9 for first page from 31\n",
            "Downloaded 0 for page 1 from 28\n",
            "Downloaded 3 for page 1 from 28\n",
            "Downloaded 6 for page 1 from 28\n",
            "Downloaded 9 for page 1 from 28\n",
            "Downloaded 0 for page 2 from 28\n",
            "Downloaded 3 for page 2 from 28\n",
            "Downloaded 6 for page 2 from 28\n",
            "Downloaded 9 for page 2 from 28\n",
            "Downloaded 0 for page 3 from 28\n",
            "Downloaded 3 for page 3 from 28\n",
            "Downloaded 6 for page 3 from 28\n",
            "Downloaded 9 for page 3 from 28\n",
            "Downloaded 0 for page 4 from 28\n",
            "Downloaded 3 for page 4 from 28\n",
            "Downloaded 6 for page 4 from 28\n",
            "Downloaded 0 for page 1 from 3\n",
            "Downloaded 3 for page 1 from 3\n",
            "Downloaded 6 for page 1 from 3\n",
            "Downloaded 9 for page 1 from 3\n",
            "Downloaded 0 for page 2 from 3\n",
            "Downloaded 3 for page 2 from 3\n",
            "Downloaded 6 for page 2 from 3\n",
            "Downloaded 9 for page 2 from 3\n",
            "Downloaded 0 for page 3 from 3\n",
            "Downloaded 3 for page 3 from 3\n",
            "Downloaded 6 for page 3 from 3\n",
            "Downloaded 9 for page 3 from 3\n",
            "Downloaded 0 for page 4 from 3\n",
            "Downloaded 3 for page 4 from 3\n",
            "Downloaded 6 for page 4 from 3\n",
            "Downloaded 0 for page 1 from 6\n",
            "Downloaded 3 for page 1 from 6\n",
            "Downloaded 6 for page 1 from 6\n",
            "Downloaded 9 for page 1 from 6\n",
            "Downloaded 0 for page 2 from 6\n",
            "Downloaded 3 for page 2 from 6\n",
            "Downloaded 6 for page 2 from 6\n",
            "Downloaded 9 for page 2 from 6\n",
            "Downloaded 0 for page 3 from 6\n",
            "Downloaded 3 for page 3 from 6\n",
            "Downloaded 6 for page 3 from 6\n",
            "Downloaded 0 for page 1 from 9\n",
            "Downloaded 3 for page 1 from 9\n",
            "Downloaded 6 for page 1 from 9\n",
            "Downloaded 9 for page 1 from 9\n",
            "Downloaded 0 for page 2 from 9\n",
            "Downloaded 3 for page 2 from 9\n",
            "Downloaded 6 for page 2 from 9\n",
            "Downloaded 9 for page 2 from 9\n",
            "Downloaded 0 for page 3 from 9\n",
            "Downloaded 3 for page 3 from 9\n",
            "Downloaded 6 for page 3 from 9\n",
            "Downloaded 9 for page 3 from 9\n",
            "Downloaded 0 for page 4 from 9\n",
            "Downloaded 3 for page 4 from 9\n",
            "Downloaded 6 for page 4 from 9\n",
            "Downloaded 9 for page 4 from 9\n",
            "Downloaded 0 for page 5 from 9\n",
            "Downloaded 3 for page 5 from 9\n",
            "Downloaded 6 for page 5 from 9\n",
            "Downloaded 9 for page 5 from 9\n",
            "Downloaded 0 for page 6 from 9\n",
            "Downloaded 3 for page 6 from 9\n",
            "Downloaded 6 for page 6 from 9\n",
            "Downloaded 9 for page 6 from 9\n",
            "Downloaded 0 for page 7 from 9\n",
            "Downloaded 3 for page 7 from 9\n",
            "Downloaded 6 for page 7 from 9\n",
            "Downloaded 9 for page 7 from 9\n",
            "Downloaded 0 for page 8 from 9\n",
            "Downloaded 3 for page 8 from 9\n",
            "Downloaded 6 for page 8 from 9\n",
            "Downloaded 9 for page 8 from 9\n",
            "Downloaded 0 for page 9 from 9\n",
            "Downloaded 3 for page 9 from 9\n",
            "Downloaded 6 for page 9 from 9\n",
            "Downloaded 9 for page 9 from 9\n",
            "Downloaded 0 for page 10 from 9\n",
            "Downloaded 3 for page 10 from 9\n",
            "Downloaded 6 for page 10 from 9\n",
            "Downloaded 9 for page 10 from 9\n",
            "Downloaded 0 for page 11 from 9\n",
            "Downloaded 3 for page 11 from 9\n",
            "Downloaded 6 for page 11 from 9\n",
            "Downloaded 9 for page 11 from 9\n",
            "Downloaded 0 for page 12 from 9\n",
            "Downloaded 3 for page 12 from 9\n",
            "Downloaded 6 for page 12 from 9\n",
            "Downloaded 9 for page 12 from 9\n",
            "Downloaded 0 for page 13 from 9\n",
            "Downloaded 3 for page 13 from 9\n",
            "Downloaded 6 for page 13 from 9\n",
            "Downloaded 9 for page 13 from 9\n",
            "Downloaded 0 for page 14 from 9\n",
            "Downloaded 3 for page 14 from 9\n",
            "Downloaded 6 for page 14 from 9\n",
            "Downloaded 9 for page 14 from 9\n",
            "Downloaded 0 for page 15 from 9\n",
            "Downloaded 3 for page 15 from 9\n",
            "Downloaded 6 for page 15 from 9\n",
            "Downloaded 9 for page 15 from 9\n",
            "Downloaded 0 for page 16 from 9\n",
            "Downloaded 3 for page 16 from 9\n",
            "Downloaded 6 for page 16 from 9\n",
            "Downloaded 9 for page 16 from 9\n",
            "Downloaded 0 for page 17 from 9\n",
            "Downloaded 3 for page 17 from 9\n",
            "Downloaded 6 for page 17 from 9\n",
            "Downloaded 9 for page 17 from 9\n",
            "Downloaded 0 for page 18 from 9\n",
            "Downloaded 3 for page 18 from 9\n",
            "Downloaded 6 for page 18 from 9\n",
            "Downloaded 9 for page 18 from 9\n",
            "Downloaded 0 for page 19 from 9\n",
            "Downloaded 3 for page 19 from 9\n",
            "Downloaded 6 for page 19 from 9\n",
            "Downloaded 0 for page 1 from 35\n",
            "Downloaded 3 for page 1 from 35\n",
            "Downloaded 6 for page 1 from 35\n",
            "Downloaded 9 for page 1 from 35\n",
            "Downloaded 0 for page 2 from 35\n",
            "Downloaded 3 for page 2 from 35\n",
            "Downloaded 6 for page 2 from 35\n",
            "Downloaded 9 for page 2 from 35\n",
            "Downloaded 0 for page 3 from 35\n",
            "Downloaded 3 for page 3 from 35\n",
            "Downloaded 6 for page 3 from 35\n",
            "Downloaded 9 for page 3 from 35\n",
            "Downloaded 0 for page 4 from 35\n",
            "Downloaded 3 for page 4 from 35\n",
            "Downloaded 6 for page 4 from 35\n",
            "Downloaded 9 for page 4 from 35\n",
            "Downloaded 0 for page 5 from 35\n",
            "Downloaded 0 for page 1 from 29\n",
            "Downloaded 3 for page 1 from 29\n",
            "Downloaded 6 for page 1 from 29\n",
            "Downloaded 9 for page 1 from 29\n",
            "Downloaded 0 for page 2 from 29\n",
            "Downloaded 3 for page 2 from 29\n",
            "Downloaded 6 for page 2 from 29\n",
            "Downloaded 9 for page 2 from 29\n",
            "Downloaded 0 for page 3 from 29\n",
            "Downloaded 3 for page 3 from 29\n",
            "Downloaded 6 for page 3 from 29\n",
            "Downloaded 9 for page 3 from 29\n",
            "Downloaded 0 for page 4 from 29\n",
            "Downloaded 3 for page 4 from 29\n",
            "Downloaded 0 for page 1 from 30\n",
            "Downloaded 3 for page 1 from 30\n",
            "Downloaded 6 for page 1 from 30\n",
            "Downloaded 9 for page 1 from 30\n",
            "Downloaded 0 for page 2 from 30\n",
            "Downloaded 3 for page 2 from 30\n",
            "Downloaded 6 for page 2 from 30\n",
            "Downloaded 9 for page 2 from 30\n",
            "Downloaded 0 for page 3 from 30\n",
            "Downloaded 0 for page 1 from 31\n",
            "Downloaded 3 for page 1 from 31\n",
            "Downloaded 6 for page 1 from 31\n",
            "Downloaded 9 for page 1 from 31\n",
            "Downloaded 0 for page 2 from 31\n"
          ]
        }
      ],
      "source": [
        "data_path = 'drive/MyDrive/alkohole/data/train'\n",
        "\n",
        "get_first_page_data('oferta-weselna', '28', data_path)\n",
        "get_first_page_data('wodki', '3', data_path)\n",
        "get_first_page_data('likiery', '6', data_path)\n",
        "get_first_page_data('whisky-', '9', data_path)\n",
        "get_first_page_data('koniak-brandy', '35', data_path)\n",
        "get_first_page_data('rumy', '29', data_path)\n",
        "get_first_page_data('giny', '30', data_path)\n",
        "get_first_page_data('inne-alkohole', '31', data_path)\n",
        "\n",
        "get_data('oferta-weselna', '28', 1, 5, data_path)\n",
        "get_data('wodki', '3', 1, 5, data_path)\n",
        "get_data('likiery', '6', 1, 5, data_path)\n",
        "get_data('whisky-', '9', 1, 20, data_path)\n",
        "get_data('koniak-brandy', '35', 1, 6, data_path)\n",
        "get_data('rumy', '29', 1, 6, data_path)\n",
        "get_data('giny', '30', 1, 5, data_path)\n",
        "get_data('inne-alkohole', '31', 1, 5, data_path)"
      ]
    },
    {
      "cell_type": "code",
      "execution_count": null,
      "metadata": {
        "id": "3a_S7KYroyjV"
      },
      "outputs": [],
      "source": []
    },
    {
      "cell_type": "code",
      "execution_count": null,
      "metadata": {
        "id": "0_OLmUnIpxFU"
      },
      "outputs": [],
      "source": [
        "def get_page_bez(category,\n",
        "                 subcategory,\n",
        "                 ):\n",
        "  \n",
        "  url = f'https://zakupyw24h.pl/{subcategory}-{category}'\n",
        "  response = requests.get(url)\n",
        "  content = response.content\n",
        "  return content\n",
        "\n",
        "\n",
        "def parse_imgs_url_bez(content):\n",
        "  soup = BeautifulSoup(content, 'html.parser')\n",
        "  imgs = soup.select('div.thumbnail-container a.thumbnail.product-thumbnail img')\n",
        "  return [img['src'] for img in imgs]\n",
        "\n",
        "def get_image_bez(url, path, category):\n",
        "    response = requests.get(url)\n",
        "    content = response.content\n",
        "    img = Image.open(BytesIO(content))\n",
        "    img_rgb=img.convert('RGB')\n",
        "    file_name = url.split('/')[-1].split('.')[0]+\".jpg\"\n",
        "    if category in bezalkoholowe:\n",
        "       os.makedirs(f'{path}/bezalkoholowe', exist_ok=True)\n",
        "       img_rgb.save(f'{path}/bezalkoholowe/{file_name}')\n",
        "\n",
        "\n",
        "def get_data_bez(category,\n",
        "                 subcategory,\n",
        "                 path):\n",
        "   \n",
        "  content = get_page_bez(category, subcategory)\n",
        "  urls = parse_imgs_url_bez(content)\n",
        "\n",
        "  for i, url in enumerate(urls):\n",
        "    get_image_bez(url, path, category)\n",
        "    if i % 10 == 0:\n",
        "      print(f'Downloaded {i} from {category}')"
      ]
    },
    {
      "cell_type": "code",
      "execution_count": null,
      "metadata": {
        "id": "xWh_HHIZBHmH"
      },
      "outputs": [],
      "source": [
        "data_path = '/content/drive/MyDrive/alkohole/data/train'"
      ]
    },
    {
      "cell_type": "code",
      "execution_count": null,
      "metadata": {
        "colab": {
          "base_uri": "https://localhost:8080/"
        },
        "id": "g4aWRI9XwBiY",
        "outputId": "cdc80794-cc40-4841-cb54-5e076895011c"
      },
      "outputs": [
        {
          "name": "stdout",
          "output_type": "stream",
          "text": [
            "Downloaded 0 from napoje-owocowe-i-warzywne\n",
            "Downloaded 10 from napoje-owocowe-i-warzywne\n",
            "Downloaded 20 from napoje-owocowe-i-warzywne\n",
            "Downloaded 30 from napoje-owocowe-i-warzywne\n",
            "Downloaded 40 from napoje-owocowe-i-warzywne\n",
            "Downloaded 50 from napoje-owocowe-i-warzywne\n",
            "Downloaded 60 from napoje-owocowe-i-warzywne\n",
            "Downloaded 70 from napoje-owocowe-i-warzywne\n",
            "Downloaded 80 from napoje-owocowe-i-warzywne\n",
            "Downloaded 90 from napoje-owocowe-i-warzywne\n",
            "Downloaded 100 from napoje-owocowe-i-warzywne\n",
            "Downloaded 110 from napoje-owocowe-i-warzywne\n"
          ]
        }
      ],
      "source": [
        "get_data_bez(category='napoje-owocowe-i-warzywne', subcategory=259, path=data_path)"
      ]
    },
    {
      "cell_type": "code",
      "execution_count": null,
      "metadata": {
        "colab": {
          "base_uri": "https://localhost:8080/"
        },
        "id": "dPqsBEe_BCux",
        "outputId": "ed04878e-b8da-49f7-987f-6dae1c994b05"
      },
      "outputs": [
        {
          "name": "stdout",
          "output_type": "stream",
          "text": [
            "Downloaded 0 from napoje-gazowane\n",
            "Downloaded 10 from napoje-gazowane\n",
            "Downloaded 20 from napoje-gazowane\n",
            "Downloaded 30 from napoje-gazowane\n",
            "Downloaded 40 from napoje-gazowane\n",
            "Downloaded 50 from napoje-gazowane\n",
            "Downloaded 60 from napoje-gazowane\n",
            "Downloaded 70 from napoje-gazowane\n",
            "Downloaded 80 from napoje-gazowane\n",
            "Downloaded 90 from napoje-gazowane\n",
            "Downloaded 100 from napoje-gazowane\n"
          ]
        }
      ],
      "source": [
        "get_data_bez(category='napoje-gazowane', subcategory=242, path=data_path)"
      ]
    },
    {
      "cell_type": "code",
      "execution_count": null,
      "metadata": {
        "colab": {
          "base_uri": "https://localhost:8080/",
          "height": 17
        },
        "id": "ax02mbtqNFWr",
        "outputId": "2c7c90b2-808a-4e84-c3cc-5e76e8368486"
      },
      "outputs": [
        {
          "data": {
            "application/javascript": [
              "\n",
              "    async function download(id, filename, size) {\n",
              "      if (!google.colab.kernel.accessAllowed) {\n",
              "        return;\n",
              "      }\n",
              "      const div = document.createElement('div');\n",
              "      const label = document.createElement('label');\n",
              "      label.textContent = `Downloading \"${filename}\": `;\n",
              "      div.appendChild(label);\n",
              "      const progress = document.createElement('progress');\n",
              "      progress.max = size;\n",
              "      div.appendChild(progress);\n",
              "      document.body.appendChild(div);\n",
              "\n",
              "      const buffers = [];\n",
              "      let downloaded = 0;\n",
              "\n",
              "      const channel = await google.colab.kernel.comms.open(id);\n",
              "      // Send a message to notify the kernel that we're ready.\n",
              "      channel.send({})\n",
              "\n",
              "      for await (const message of channel.messages) {\n",
              "        // Send a message to notify the kernel that we're ready.\n",
              "        channel.send({})\n",
              "        if (message.buffers) {\n",
              "          for (const buffer of message.buffers) {\n",
              "            buffers.push(buffer);\n",
              "            downloaded += buffer.byteLength;\n",
              "            progress.value = downloaded;\n",
              "          }\n",
              "        }\n",
              "      }\n",
              "      const blob = new Blob(buffers, {type: 'application/binary'});\n",
              "      const a = document.createElement('a');\n",
              "      a.href = window.URL.createObjectURL(blob);\n",
              "      a.download = filename;\n",
              "      div.appendChild(a);\n",
              "      a.click();\n",
              "      div.remove();\n",
              "    }\n",
              "  "
            ],
            "text/plain": [
              "<IPython.core.display.Javascript object>"
            ]
          },
          "metadata": {},
          "output_type": "display_data"
        },
        {
          "data": {
            "application/javascript": [
              "download(\"download_06cfb3ef-49c9-49e7-ac66-65bd8d333fbe\", \"bezalkoholowe.zip\", 3741558)"
            ],
            "text/plain": [
              "<IPython.core.display.Javascript object>"
            ]
          },
          "metadata": {},
          "output_type": "display_data"
        }
      ],
      "source": [
        "from google.colab import files\n",
        "import os\n",
        "\n",
        "dir_to_zip = '/content/drive/MyDrive/alkohole/data/train/bezalkoholowe' #@param {type: \"string\"}\n",
        "output_filename = 'bezalkoholowe.zip' #@param {type: \"string\"}\n",
        "delete_dir_after_download = \"No\"  #@param ['Yes', 'No']\n",
        "\n",
        "os.system( \"zip -r {} {}\".format( output_filename , dir_to_zip ) )\n",
        "\n",
        "if delete_dir_after_download == \"Yes\":\n",
        "    os.system( \"rm -r {}\".format( dir_to_zip ) )\n",
        "\n",
        "files.download( output_filename )"
      ]
    },
    {
      "cell_type": "code",
      "execution_count": null,
      "metadata": {
        "id": "_8ItZB2SSVLl"
      },
      "outputs": [],
      "source": []
    }
  ],
  "metadata": {
    "accelerator": "GPU",
    "colab": {
      "provenance": [],
      "include_colab_link": true
    },
    "gpuClass": "standard",
    "kernelspec": {
      "display_name": "Python 3",
      "name": "python3"
    },
    "language_info": {
      "name": "python"
    }
  },
  "nbformat": 4,
  "nbformat_minor": 0
}